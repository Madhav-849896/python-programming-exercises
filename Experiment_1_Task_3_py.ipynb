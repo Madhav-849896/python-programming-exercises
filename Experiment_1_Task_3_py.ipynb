{
  "nbformat": 4,
  "nbformat_minor": 0,
  "metadata": {
    "colab": {
      "provenance": [],
      "authorship_tag": "ABX9TyNYCxnFGLkGxifXByLyLeQh",
      "include_colab_link": true
    },
    "kernelspec": {
      "name": "python3",
      "display_name": "Python 3"
    },
    "language_info": {
      "name": "python"
    }
  },
  "cells": [
    {
      "cell_type": "markdown",
      "metadata": {
        "id": "view-in-github",
        "colab_type": "text"
      },
      "source": [
        "<a href=\"https://colab.research.google.com/github/Madhav-849896/python-programming-exercises/blob/main/Experiment_1_Task_3_py.ipynb\" target=\"_parent\"><img src=\"https://colab.research.google.com/assets/colab-badge.svg\" alt=\"Open In Colab\"/></a>"
      ]
    },
    {
      "cell_type": "code",
      "execution_count": null,
      "metadata": {
        "colab": {
          "base_uri": "https://localhost:8080/"
        },
        "id": "1ZVh8oL5Q2ob",
        "outputId": "8fbf32d9-6794-4880-d4eb-174cd3bd186e"
      },
      "outputs": [
        {
          "output_type": "stream",
          "name": "stdout",
          "text": [
            "Enter the length of the rectangle: 10\n",
            "Enter the breadth of the rectangle: 5\n",
            "Area of the rectangle: 50.0\n",
            "Perimeter of the rectangle: 30.0\n"
          ]
        }
      ],
      "source": [
        "# Student Name : P.Madhava Naidu\n",
        "# Roll Number : 2024UG1102\n",
        "# Course : CS2101 - python programming lab\n",
        "# Experiment 1 - Task 3 : Area and Perimeter of a Rectangle\n",
        "\n",
        "# Program to calculate the area and perimeter of a rectangle\n",
        "\n",
        "# Input from the user\n",
        "length = float(input(\"Enter the length of the rectangle: \"))\n",
        "breadth = float(input(\"Enter the breadth of the rectangle: \"))\n",
        "\n",
        "# Calculate area\n",
        "area = length * breadth\n",
        "\n",
        "# Calculate perimeter\n",
        "perimeter = 2 * (length + breadth)\n",
        "\n",
        "# Output results\n",
        "print(\"Area of the rectangle:\", area)\n",
        "print(\"Perimeter of the rectangle:\", perimeter)\n",
        "\n",
        "# -------------------------------\n",
        "# Sample Input/Output:\n",
        "# Input:\n",
        "# Enter the length of the rectangle: 10\n",
        "# Enter the breadth of the rectangle: 5\n",
        "#\n",
        "# Output:\n",
        "# Area of the rectangle: 50.0\n",
        "# Perimeter of the rectangle: 30.0\n",
        "#\n",
        "# Test with another input:\n",
        "# Input:\n",
        "# Enter the length of the rectangle: 7.5\n",
        "# Enter the breadth of the rectangle: 3.2\n",
        "#\n",
        "# Output:\n",
        "# Area of the rectangle: 24.0\n",
        "# Perimeter of the rectangle: 21.4\n",
        "# -------------------------------\n"
      ]
    }
  ]
}