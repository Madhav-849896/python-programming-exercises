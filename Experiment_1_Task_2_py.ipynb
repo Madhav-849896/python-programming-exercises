{
  "nbformat": 4,
  "nbformat_minor": 0,
  "metadata": {
    "colab": {
      "provenance": [],
      "authorship_tag": "ABX9TyOBy1+hBeR5lUtvfcitW6Cz",
      "include_colab_link": true
    },
    "kernelspec": {
      "name": "python3",
      "display_name": "Python 3"
    },
    "language_info": {
      "name": "python"
    }
  },
  "cells": [
    {
      "cell_type": "markdown",
      "metadata": {
        "id": "view-in-github",
        "colab_type": "text"
      },
      "source": [
        "<a href=\"https://colab.research.google.com/github/Madhav-849896/python-programming-exercises/blob/main/Experiment_1_Task_2_py.ipynb\" target=\"_parent\"><img src=\"https://colab.research.google.com/assets/colab-badge.svg\" alt=\"Open In Colab\"/></a>"
      ]
    },
    {
      "cell_type": "code",
      "execution_count": 2,
      "metadata": {
        "colab": {
          "base_uri": "https://localhost:8080/"
        },
        "id": "guTnFmWGN8tJ",
        "outputId": "89f3d922-b411-46de-cde9-bcf4b2494e60"
      },
      "outputs": [
        {
          "output_type": "stream",
          "name": "stdout",
          "text": [
            "Enter the number of subjects: 3\n",
            "Enter marks for subject 1: 95\n",
            "Enter marks for subject 2: 88\n",
            "Enter marks for subject 3: 92\n",
            "Average Marks: 91.66666666666667\n",
            "Grade: A\n"
          ]
        }
      ],
      "source": [
        "# Student Name : P.Madhava Naidu\n",
        "# Roll Number : 2024UG1102\n",
        "# Course : CS2101 - python programming lab\n",
        "# Experiment 1 - Task 2 : Students marks and grade classification\n",
        "\n",
        "# Program to compute average marks and classify grade\n",
        "\n",
        "# Input from the user\n",
        "num_subjects = int(input(\"Enter the number of subjects: \"))\n",
        "\n",
        "# Initialize total marks\n",
        "total_marks = 0\n",
        "\n",
        "# Get marks for each subject\n",
        "for i in range(num_subjects):\n",
        "    mark = float(input(f\"Enter marks for subject {i+1}: \"))\n",
        "    total_marks += mark\n",
        "\n",
        "# Compute average\n",
        "average_marks = total_marks / num_subjects\n",
        "\n",
        "# Grade classification\n",
        "if average_marks >= 90:\n",
        "    grade = \"A\"\n",
        "elif average_marks >= 80:\n",
        "    grade = \"B\"\n",
        "elif average_marks >= 70:\n",
        "    grade = \"C\"\n",
        "elif average_marks >= 60:\n",
        "    grade = \"D\"\n",
        "else:\n",
        "    grade = \"F\"\n",
        "\n",
        "# Output result\n",
        "print(\"Average Marks:\", average_marks)\n",
        "print(\"Grade:\", grade)\n",
        "\n",
        "# -------------------------------\n",
        "# Sample Input/Output:\n",
        "# Input:\n",
        "# Enter the number of subjects: 3\n",
        "# Enter marks for subject 1: 95\n",
        "# Enter marks for subject 2: 88\n",
        "# Enter marks for subject 3: 92\n",
        "#\n",
        "# Output:\n",
        "# Average Marks: 91.66666666666667\n",
        "# Grade: A\n",
        "#\n",
        "# Test with another input:\n",
        "# Input:\n",
        "# Enter the number of subjects: 4\n",
        "# Enter marks for subject 1: 70\n",
        "# Enter marks for subject 2: 65\n",
        "# Enter marks for subject 3: 72\n",
        "# Enter marks for subject 4: 60\n",
        "#\n",
        "# Output:\n",
        "# Average Marks: 66.75\n",
        "# Grade: D\n",
        "# -------------------------------\n"
      ]
    }
  ]
}