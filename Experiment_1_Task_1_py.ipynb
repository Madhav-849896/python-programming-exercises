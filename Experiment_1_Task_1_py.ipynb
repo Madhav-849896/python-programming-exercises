{
  "nbformat": 4,
  "nbformat_minor": 0,
  "metadata": {
    "colab": {
      "provenance": [],
      "authorship_tag": "ABX9TyO0Jxwz7ZXVNDrybCiFVFUZ",
      "include_colab_link": true
    },
    "kernelspec": {
      "name": "python3",
      "display_name": "Python 3"
    },
    "language_info": {
      "name": "python"
    }
  },
  "cells": [
    {
      "cell_type": "markdown",
      "metadata": {
        "id": "view-in-github",
        "colab_type": "text"
      },
      "source": [
        "<a href=\"https://colab.research.google.com/github/Madhav-849896/python-programming-exercises/blob/main/Experiment_1_Task_1_py.ipynb\" target=\"_parent\"><img src=\"https://colab.research.google.com/assets/colab-badge.svg\" alt=\"Open In Colab\"/></a>"
      ]
    },
    {
      "cell_type": "code",
      "execution_count": null,
      "metadata": {
        "colab": {
          "base_uri": "https://localhost:8080/"
        },
        "id": "R-whf55RFE-M",
        "outputId": "e01a126d-3644-4aa5-9b61-7fd444c9c470"
      },
      "outputs": [
        {
          "output_type": "stream",
          "name": "stdout",
          "text": [
            "Enter first number: 5\n",
            "Enter second number: 10\n",
            "After swapping: first number = 10 second number = 5\n"
          ]
        }
      ],
      "source": [
        "# Student Name : P.Madhava Naidu\n",
        "# Roll Number : 2024UG1102\n",
        "# Course : CS2101 - python programming lab\n",
        "# Experiment 1 - Task 1 : To implement Swapping of two numbers using python\n",
        "\n",
        "\n",
        "# Program to swap two numbers\n",
        "\n",
        "# Input from the user\n",
        "first_number = int(input(\"Enter first number: \"))\n",
        "second_number = int(input(\"Enter second number: \"))\n",
        "\n",
        "# Swapping logic\n",
        "first_number, second_number = second_number, first_number\n",
        "\n",
        "# Output after swapping\n",
        "print(\"After swapping: first number =\", first_number, \"second number =\", second_number)\n",
        "\n",
        "\n",
        "# Sample Input/Output:\n",
        "# Input:\n",
        "# Enter first number: 5\n",
        "# Enter second number: 10\n",
        "#\n",
        "# Output:\n",
        "# After swapping: first number = 10 second number = 5\n",
        "#\n",
        "# Test with another input:\n",
        "# Input:\n",
        "# Enter first number: -3\n",
        "# Enter second number: 7\n",
        "#\n",
        "# Output:\n",
        "# After swapping: first number = 7 second number = -3\n",
        "\n",
        "\n"
      ]
    },
    {
      "cell_type": "markdown",
      "source": [
        "now tell me how to create github repository"
      ],
      "metadata": {
        "id": "nxo3AxQ8S_02"
      }
    },
    {
      "cell_type": "markdown",
      "source": [],
      "metadata": {
        "id": "g__4iujkJnBW"
      }
    }
  ]
}